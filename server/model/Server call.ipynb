{
 "cells": [
  {
   "cell_type": "code",
   "execution_count": 6,
   "metadata": {
    "colab": {
     "base_uri": "https://localhost:8080/"
    },
    "id": "CpcfsRrBbFxT",
    "outputId": "17a9d906-22b2-430a-cfbb-db103f699db0"
   },
   "outputs": [
    {
     "name": "stdout",
     "output_type": "stream",
     "text": [
      "null\n"
     ]
    }
   ],
   "source": [
    "import json\n",
    "import requests\n",
    "from sklearn.preprocessing import LabelEncoder, OneHotEncoder\n",
    "\n",
    "url = 'https://d3d6-35-184-57-221.ngrok.io/placement_prediction'\n",
    "\n",
    "input_data_for_model = {\n",
    "    'Age' : 20,\n",
    "    'CGPA' : 8,\n",
    "    'Stream' : 1,\n",
    "    'Certification' : 4,\n",
    "    'Internships' : 1,\n",
    "    'HistoryOfBacklogs' : 1,\n",
    "    'Gender' : 1\n",
    "}\n",
    "\n",
    "# input_json = json.dumps(input_data_for_model)\n",
    "response = requests.post(url, json=input_data_for_model)\n",
    "\n",
    "print(response.text)\n"
   ]
  },
  {
   "cell_type": "code",
   "execution_count": null,
   "metadata": {
    "id": "tj2Sv4alcODT"
   },
   "outputs": [],
   "source": []
  }
 ],
 "metadata": {
  "colab": {
   "provenance": []
  },
  "kernelspec": {
   "display_name": "Python 3 (ipykernel)",
   "language": "python",
   "name": "python3"
  },
  "language_info": {
   "codemirror_mode": {
    "name": "ipython",
    "version": 3
   },
   "file_extension": ".py",
   "mimetype": "text/x-python",
   "name": "python",
   "nbconvert_exporter": "python",
   "pygments_lexer": "ipython3",
   "version": "3.11.4"
  }
 },
 "nbformat": 4,
 "nbformat_minor": 1
}
