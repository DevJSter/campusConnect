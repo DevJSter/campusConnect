{
 "cells": [
  {
   "cell_type": "code",
   "execution_count": 2,
   "metadata": {
    "colab": {
     "base_uri": "https://localhost:8080/"
    },
    "id": "CpcfsRrBbFxT",
    "outputId": "17a9d906-22b2-430a-cfbb-db103f699db0"
   },
   "outputs": [
    {
     "ename": "SyntaxError",
     "evalue": "invalid syntax. Perhaps you forgot a comma? (3981835571.py, line 8)",
     "output_type": "error",
     "traceback": [
      "\u001b[1;36m  Cell \u001b[1;32mIn[2], line 8\u001b[1;36m\u001b[0m\n\u001b[1;33m    'features' {\u001b[0m\n\u001b[1;37m    ^\u001b[0m\n\u001b[1;31mSyntaxError\u001b[0m\u001b[1;31m:\u001b[0m invalid syntax. Perhaps you forgot a comma?\n"
     ]
    }
   ],
   "source": [
    "import json\n",
    "import requests\n",
    "from sklearn.preprocessing import LabelEncoder, OneHotEncoder\n",
    "\n",
    "url = 'https://fcca-35-184-57-221.ngrok.io/placement_prediction'\n",
    "\n",
    "input_data_for_model = {\n",
    "    'features' {\n",
    "    'Age' : 20,\n",
    "    'CGPA' : 8,\n",
    "    'Stream' : 1,\n",
    "    'Certification' : 4,\n",
    "    'Internships' : 1,\n",
    "    'HistoryOfBacklogs' : 1,\n",
    "    'Gender' : 1\n",
    "\n",
    "    }\n",
    "}\n",
    "\n",
    "input_json = json.dumps(input_data_for_model)\n",
    "\n",
    "response = requests.post(url, data=input_json)\n",
    "\n",
    "print(response.text)\n"
   ]
  },
  {
   "cell_type": "code",
   "execution_count": null,
   "metadata": {
    "id": "tj2Sv4alcODT"
   },
   "outputs": [],
   "source": []
  }
 ],
 "metadata": {
  "colab": {
   "provenance": []
  },
  "kernelspec": {
   "display_name": "Python 3 (ipykernel)",
   "language": "python",
   "name": "python3"
  },
  "language_info": {
   "codemirror_mode": {
    "name": "ipython",
    "version": 3
   },
   "file_extension": ".py",
   "mimetype": "text/x-python",
   "name": "python",
   "nbconvert_exporter": "python",
   "pygments_lexer": "ipython3",
   "version": "3.11.4"
  }
 },
 "nbformat": 4,
 "nbformat_minor": 1
}
